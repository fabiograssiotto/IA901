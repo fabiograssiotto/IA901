{
  "cells": [
    {
      "cell_type": "markdown",
      "source": [
        "Fabio Grassiotto - RA 890441 - IA901A"
      ],
      "metadata": {
        "id": "a49GJIkjlA9h"
      }
    },
    {
      "cell_type": "markdown",
      "metadata": {
        "id": "YtINjzumUi4s"
      },
      "source": [
        "# Ex01 - Aprendendo Numpy\n"
      ]
    },
    {
      "cell_type": "markdown",
      "source": [
        "## Parte 1 - Exercitando o uso do Numpy"
      ],
      "metadata": {
        "id": "o-W-I1kiT-8G"
      }
    },
    {
      "cell_type": "markdown",
      "metadata": {
        "id": "HFhzTar2Ui4v"
      },
      "source": [
        "### Visualizando arrays em forma de imagem"
      ]
    },
    {
      "cell_type": "code",
      "execution_count": 16,
      "metadata": {
        "id": "lyw-0E6yUi4v",
        "outputId": "b46254b6-bdd2-4367-b055-79fa3195ca9e",
        "colab": {
          "base_uri": "https://localhost:8080/"
        }
      },
      "outputs": [
        {
          "output_type": "stream",
          "name": "stdout",
          "text": [
            "Imagem constante:\n",
            " [[1. 1. 1. ... 1. 1. 1.]\n",
            " [1. 1. 1. ... 1. 1. 1.]\n",
            " [1. 1. 1. ... 1. 1. 1.]\n",
            " ...\n",
            " [1. 1. 1. ... 1. 1. 1.]\n",
            " [1. 1. 1. ... 1. 1. 1.]\n",
            " [1. 1. 1. ... 1. 1. 1.]]\n"
          ]
        }
      ],
      "source": [
        "import numpy as np\n",
        "\n",
        "f = np.ones((100,120))\n",
        "print(\"Imagem constante:\\n\",f)"
      ]
    },
    {
      "cell_type": "markdown",
      "source": [],
      "metadata": {
        "id": "8JmfYqmik_ov"
      }
    },
    {
      "cell_type": "code",
      "execution_count": 17,
      "metadata": {
        "id": "_c7eUOHlUi4x",
        "outputId": "88201765-d27a-41bd-87ea-f933a9845a5d",
        "colab": {
          "base_uri": "https://localhost:8080/",
          "height": 298
        }
      },
      "outputs": [
        {
          "output_type": "execute_result",
          "data": {
            "text/plain": [
              "<matplotlib.colorbar.Colorbar at 0x7f3760adc040>"
            ]
          },
          "metadata": {},
          "execution_count": 17
        },
        {
          "output_type": "display_data",
          "data": {
            "text/plain": [
              "<Figure size 432x288 with 2 Axes>"
            ],
            "image/png": "[encoded data removed]"
          },
          "metadata": {
            "needs_background": "light"
          }
        }
      ],
      "source": [
        "%matplotlib inline\n",
        "import matplotlib.pyplot as plt\n",
        "\n",
        "plt.title('Constant image')\n",
        "plt.imshow(f,cmap='gray')\n",
        "plt.colorbar()"
      ]
    },
    {
      "cell_type": "markdown",
      "source": [
        "## Parte 2 - Manipulando arrays com Numpy\n",
        "\n"
      ],
      "metadata": {
        "id": "_vDIgFwYTXzP"
      }
    },
    {
      "cell_type": "markdown",
      "source": [
        "Nesta seção, serão abordados os métodos empregados nos tutoriais disponíveis no tutorial [\"Aprendendo Numpy\"](https://github.com/lrittner/Computacao-Visual/blob/master/tutoriais/02_Aprendendo_Numpy.ipynb)."
      ],
      "metadata": {
        "id": "OtRAq-XPTn07"
      }
    },
    {
      "cell_type": "markdown",
      "source": [
        "### Ex. 1.2.1"
      ],
      "metadata": {
        "id": "k_cZ4ps0Z3rT"
      }
    },
    {
      "cell_type": "markdown",
      "source": [
        "Efetue a criação de um np.array **a**, formado apenas por elementos \"1\", de tipo \"int16\", com 5 linhas e 3 colunas.\n",
        "\n",
        "**a)** Printe o array criado;"
      ],
      "metadata": {
        "id": "jKpq0f_3Ue83"
      }
    },
    {
      "cell_type": "code",
      "source": [
        "# Seu código aqui\n",
        "a = np.ones((5, 3), dtype=np.int16)\n",
        "print(\"Array com elementos 1 de tipo int16:\\n\", a)"
      ],
      "metadata": {
        "id": "vJl90QuiVrVw",
        "colab": {
          "base_uri": "https://localhost:8080/"
        },
        "outputId": "947b7eae-0522-44fd-e4a3-2d0616ea4386"
      },
      "execution_count": 18,
      "outputs": [
        {
          "output_type": "stream",
          "name": "stdout",
          "text": [
            "Array com elementos 1 de tipo int16:\n",
            " [[1 1 1]\n",
            " [1 1 1]\n",
            " [1 1 1]\n",
            " [1 1 1]\n",
            " [1 1 1]]\n"
          ]
        }
      ]
    },
    {
      "cell_type": "markdown",
      "source": [
        "**b)** Crie um novo array **b** a partir do array **a**. Altere o elemento da 3ª linha e 2ª coluna do array **b** para zero (0), sem que o array **a** seja alterado. Comente a metodologia empregada e printe os arrays **a** e **b**;"
      ],
      "metadata": {
        "id": "w7KelNqGVr-F"
      }
    },
    {
      "cell_type": "code",
      "source": [
        "# Seu código aqui\n",
        "b = a.copy()\n",
        "b[2, 1] = 0\n",
        "\n",
        "print(\"Novo array b: \\n\", b)\n",
        "print(\"\\nArray original a: \\n\", a)"
      ],
      "metadata": {
        "id": "eotdHqZFWG6n",
        "colab": {
          "base_uri": "https://localhost:8080/"
        },
        "outputId": "6c0f5ec7-4798-49de-a44d-9d5834bba06c"
      },
      "execution_count": 19,
      "outputs": [
        {
          "output_type": "stream",
          "name": "stdout",
          "text": [
            "Novo array b: \n",
            " [[1 1 1]\n",
            " [1 1 1]\n",
            " [1 0 1]\n",
            " [1 1 1]\n",
            " [1 1 1]]\n",
            "\n",
            "Array original a: \n",
            " [[1 1 1]\n",
            " [1 1 1]\n",
            " [1 1 1]\n",
            " [1 1 1]\n",
            " [1 1 1]]\n"
          ]
        }
      ]
    },
    {
      "cell_type": "markdown",
      "source": [
        "Em numpy é necessário efetuar uma cópia do array original utilizando para tanto a função np.copy(), o que preserva o array original. Np.copy() é uma função que efetua uma cópia rasa, ou seja objetos internos ao array não seriam copiados. Como o array de entrada é simples, a cópia rasa garante que os dados são preservados."
      ],
      "metadata": {
        "id": "vZE5qsNZvH9t"
      }
    },
    {
      "cell_type": "markdown",
      "source": [
        "**c)** Utilizando fatiamento, altere a 2ª coluna do array **b** para elementos iguais a 2, utilizando um array **c**.  Comente a metodologia empregada e printe os arrays **b** e **c**;"
      ],
      "metadata": {
        "id": "e_lO8LLNXFkt"
      }
    },
    {
      "cell_type": "code",
      "source": [
        "# Seu código aqui\n",
        "c = np.array([2, 2, 2, 2, 2]).T\n",
        "\n",
        "print(\"Array C é um vetor coluna com os elementos iguais a 2:\\n\", c)\n",
        "print(\"Shape de C: \", np.shape(c))\n",
        "\n",
        "b[:, 1] = c\n",
        "\n",
        "print(\"\\n Array b alterado: \\n\", b)"
      ],
      "metadata": {
        "id": "a3e-ElKkXc-p",
        "colab": {
          "base_uri": "https://localhost:8080/"
        },
        "outputId": "c5bde6a6-be41-4fb4-8a81-7e88bcbaeeac"
      },
      "execution_count": 20,
      "outputs": [
        {
          "output_type": "stream",
          "name": "stdout",
          "text": [
            "Array C é um vetor coluna com os elementos iguais a 2:\n",
            " [2 2 2 2 2]\n",
            "Shape de C:  (5,)\n",
            "\n",
            " Array b alterado: \n",
            " [[1 2 1]\n",
            " [1 2 1]\n",
            " [1 2 1]\n",
            " [1 2 1]\n",
            " [1 2 1]]\n"
          ]
        }
      ]
    },
    {
      "cell_type": "markdown",
      "source": [
        "Utilizando fatiamento, substituimos a segunda coluna utilizando uma matriz de coluna C como entrada para a atribuição do fatiamento da matriz b."
      ],
      "metadata": {
        "id": "7iVnnEr2vQrH"
      }
    },
    {
      "cell_type": "markdown",
      "source": [
        "### Ex. 1.2.2\n",
        "\n"
      ],
      "metadata": {
        "id": "B7A683XvZ-Dc"
      }
    },
    {
      "cell_type": "markdown",
      "source": [
        "Efetue a criação de um np.array **d**, formado por 21 elementos sequenciais, com valor inicial 0, valor final 100 e passo 5.\n",
        "\n",
        "**a)** Printe o array criado e comente a metodologia utilizada;"
      ],
      "metadata": {
        "id": "0suXWMvmaDiq"
      }
    },
    {
      "cell_type": "code",
      "source": [
        "# Seu código aqui\n",
        "d = np.arange(0, 101, 5)\n",
        "print(\"Array d: \\n\", d)\n",
        "\n"
      ],
      "metadata": {
        "id": "QI2HC8SUbRAm",
        "colab": {
          "base_uri": "https://localhost:8080/"
        },
        "outputId": "401935bc-da2d-4271-859c-075d80924446"
      },
      "execution_count": 21,
      "outputs": [
        {
          "output_type": "stream",
          "name": "stdout",
          "text": [
            "Array d: \n",
            " [  0   5  10  15  20  25  30  35  40  45  50  55  60  65  70  75  80  85\n",
            "  90  95 100]\n"
          ]
        }
      ]
    },
    {
      "cell_type": "markdown",
      "source": [
        "Para gerarmos o array sequencial usamos a função np.arange() que cria elementos seguindo um intervalo definido (5), iniciando em 0 e chegando até 100. Na chamada da função usamos o valor 101 para que o valor '100' seja incluido na faixa de valores."
      ],
      "metadata": {
        "id": "VnKASWSrvdUO"
      }
    },
    {
      "cell_type": "markdown",
      "source": [
        "**b)** Altere o array **d** para que este possua 7 linhas e 3 colunas. Printe o array resultante e comente a metodologia utilizada;"
      ],
      "metadata": {
        "id": "s59pBLm8bszk"
      }
    },
    {
      "cell_type": "code",
      "source": [
        "# Seu código aqui\n",
        "\n",
        "d = d.reshape((7, 3))\n",
        "print(d)"
      ],
      "metadata": {
        "id": "KV4aP8eAbr4_",
        "colab": {
          "base_uri": "https://localhost:8080/"
        },
        "outputId": "733b859c-e63c-460e-8af7-2d7591c2204e"
      },
      "execution_count": 22,
      "outputs": [
        {
          "output_type": "stream",
          "name": "stdout",
          "text": [
            "[[  0   5  10]\n",
            " [ 15  20  25]\n",
            " [ 30  35  40]\n",
            " [ 45  50  55]\n",
            " [ 60  65  70]\n",
            " [ 75  80  85]\n",
            " [ 90  95 100]]\n"
          ]
        }
      ]
    },
    {
      "cell_type": "markdown",
      "source": [
        "Para alterarmos o array, utilizamos a função de reshape a atribuímos o array resultante ao array de entrada d."
      ],
      "metadata": {
        "id": "ViXAS2oTvymg"
      }
    },
    {
      "cell_type": "markdown",
      "source": [
        "**c)** Utilizando fatiamento, efetue a inversão dos elementos do array **d** (primeiro elemento vira o último, segundo elemento vira o penúltimo, ...) sem alterar o shape original do array. Printe o array resultante e comente a metodologia utilizada;"
      ],
      "metadata": {
        "id": "1uaiRjh5eUxZ"
      }
    },
    {
      "cell_type": "code",
      "source": [
        "# Seu código aqui\n",
        "\n",
        "d = d[::-1]\n",
        "\n",
        "print(d)"
      ],
      "metadata": {
        "id": "m3Jo40jvekOk",
        "colab": {
          "base_uri": "https://localhost:8080/"
        },
        "outputId": "90c7ea4b-6f33-40c3-b7b3-abd524b36cc4"
      },
      "execution_count": 23,
      "outputs": [
        {
          "output_type": "stream",
          "name": "stdout",
          "text": [
            "[[ 90  95 100]\n",
            " [ 75  80  85]\n",
            " [ 60  65  70]\n",
            " [ 45  50  55]\n",
            " [ 30  35  40]\n",
            " [ 15  20  25]\n",
            " [  0   5  10]]\n"
          ]
        }
      ]
    },
    {
      "cell_type": "markdown",
      "source": [
        "Para invertermos o array, usamos fatiamento com a sintaxe (::-1) e atribuímos à matrix de entrada."
      ],
      "metadata": {
        "id": "lC-DdSvkxTel"
      }
    },
    {
      "cell_type": "markdown",
      "source": [
        "**d)** Utilizando fatiamento no array resultante no item anterior, printe apenas os elementos da 4ª à 5ª linhas e da 2ª à 3ª colunas.  Comente a metodologia utilizada."
      ],
      "metadata": {
        "id": "GMRsUlg-iKxm"
      }
    },
    {
      "cell_type": "code",
      "source": [
        "# Seu código aqui\n",
        "\n",
        "print(\"Linhas 4-5 e colunas 2-3:\")\n",
        "print(d[3:5, 1:3])"
      ],
      "metadata": {
        "id": "GLxbKKcaiJlB",
        "colab": {
          "base_uri": "https://localhost:8080/"
        },
        "outputId": "a2f25f85-630c-4016-c4d5-92c5b3736c6d"
      },
      "execution_count": 24,
      "outputs": [
        {
          "output_type": "stream",
          "name": "stdout",
          "text": [
            "Linhas 4-5 e colunas 2-3:\n",
            "[[50 55]\n",
            " [35 40]]\n"
          ]
        }
      ]
    },
    {
      "cell_type": "markdown",
      "source": [
        "Para obter os elementos, executamos um fatiamento das linhas e colunas desejadas usando a sintaxe [faixa de linhas: faixa de colunas]."
      ],
      "metadata": {
        "id": "T4HAVgFMxiZZ"
      }
    },
    {
      "cell_type": "markdown",
      "source": [
        "### Ex. 1.2.3"
      ],
      "metadata": {
        "id": "WNAmIzl8lJnB"
      }
    },
    {
      "cell_type": "markdown",
      "source": [
        "Efetue a criação de um np.array **e**, formado por 35 elementos sequenciais, com:\n",
        "\n",
        "- valor inicial 0; \n",
        "- valor final 34;\n",
        "- passo 1;\n",
        "- shape (5,7).\n",
        "\n",
        "**a)** Printe o array criado, seu shape e comente a metodologia utilizada;"
      ],
      "metadata": {
        "id": "fvQjE07olNT3"
      }
    },
    {
      "cell_type": "code",
      "source": [
        "# Seu código aqui\n",
        "\n",
        "e = np.arange(0, 35, 1).reshape(5, 7)\n",
        "print(e)"
      ],
      "metadata": {
        "id": "ULw_XlJrlccS",
        "colab": {
          "base_uri": "https://localhost:8080/"
        },
        "outputId": "a1ba8eae-11fe-4f91-bb51-131c4c4a7a12"
      },
      "execution_count": 25,
      "outputs": [
        {
          "output_type": "stream",
          "name": "stdout",
          "text": [
            "[[ 0  1  2  3  4  5  6]\n",
            " [ 7  8  9 10 11 12 13]\n",
            " [14 15 16 17 18 19 20]\n",
            " [21 22 23 24 25 26 27]\n",
            " [28 29 30 31 32 33 34]]\n"
          ]
        }
      ]
    },
    {
      "cell_type": "markdown",
      "source": [
        "Para criar o array utilizamos a função arange (para criar o intervalo) e o reshape diretamente na saída da função."
      ],
      "metadata": {
        "id": "WomYmVTky5bu"
      }
    },
    {
      "cell_type": "markdown",
      "source": [
        "**b)** Utilize um array booleano e indexação para printar apenas os elementos do array **e** que são maiores que 20. Comente a metodologia utilizada. "
      ],
      "metadata": {
        "id": "3_dNSbW0lpJ8"
      }
    },
    {
      "cell_type": "code",
      "source": [
        "# Seu código aqui\n",
        "\n",
        "arrBool = (e > 20)\n",
        "print(e[arrBool])"
      ],
      "metadata": {
        "id": "AF-u7y9tmyaS",
        "colab": {
          "base_uri": "https://localhost:8080/"
        },
        "outputId": "36255aeb-783b-4cab-831f-d74c552792ba"
      },
      "execution_count": 26,
      "outputs": [
        {
          "output_type": "stream",
          "name": "stdout",
          "text": [
            "[21 22 23 24 25 26 27 28 29 30 31 32 33 34]\n"
          ]
        }
      ]
    },
    {
      "cell_type": "markdown",
      "source": [
        "Para encontrar os elementos maiores que 20, criamos um array booleano e atribuímos ao array arrBool, e usamos este array para indexar os elementos e gerar o print."
      ],
      "metadata": {
        "id": "MDLdoIRg076N"
      }
    },
    {
      "cell_type": "markdown",
      "source": [
        "**c)** Utilize um array booleano e indexação para printar apenas as colunas do array **e** que possuem soma par. Comente a metodologia utilizada. "
      ],
      "metadata": {
        "id": "ecPXEkB5oP9h"
      }
    },
    {
      "cell_type": "code",
      "source": [
        "# Seu código aqui\n",
        "\n",
        "colSum = np.sum(e, axis = 0)\n",
        "print(\"colSum =\", colSum)\n",
        "\n",
        "evenCols = colSum % 2 == 0\n",
        "print(\"evenCols =\", evenCols)\n",
        "\n",
        "print(\"\\nColunas de e com soma par: \\n\", e[:, evenCols])"
      ],
      "metadata": {
        "id": "aKWnIetUoPP-",
        "colab": {
          "base_uri": "https://localhost:8080/"
        },
        "outputId": "0a6ac210-452f-4a5d-e2fe-567f0f6ce085"
      },
      "execution_count": 27,
      "outputs": [
        {
          "output_type": "stream",
          "name": "stdout",
          "text": [
            "colSum = [ 70  75  80  85  90  95 100]\n",
            "evenCols = [ True False  True False  True False  True]\n",
            "\n",
            "Colunas de e com soma par: \n",
            " [[ 0  2  4  6]\n",
            " [ 7  9 11 13]\n",
            " [14 16 18 20]\n",
            " [21 23 25 27]\n",
            " [28 30 32 34]]\n"
          ]
        }
      ]
    },
    {
      "cell_type": "markdown",
      "source": [
        "Para resolvermos este problema, inicialmente criamos um vetor com o resultado da soma das colunas do array de entrada (colSum). Este vetor é utilizado então para criar um array booleano (evenCols), indicando quais valores de somas são pares. Daí utilizamos este vetor booleano para selecionar as colunas e printá-las."
      ],
      "metadata": {
        "id": "FPsaQW2N3Wiy"
      }
    },
    {
      "cell_type": "markdown",
      "source": [
        "### Ex. 1.2.4\n",
        "\n"
      ],
      "metadata": {
        "id": "GxpElKJsxgNF"
      }
    },
    {
      "cell_type": "markdown",
      "source": [
        "Crie uma função que tenha como entradas:\n",
        "- Inteiro **m** que corresponde às linhas de uma matriz;\n",
        "- Inteiro **n** que corresponde às colunas de uma matriz;\n",
        "\n",
        "e que retorne:\n",
        "- Uma matriz **X** de shape (m, n), em que cada elemento X[i,j] seja a distância Euclidiana entre a posição [i,j] e a posição [0,0].\n",
        "\n",
        "Dica: criar novas matrizes com as funções np.meshgrid e np.arrange para realizar as operações e obter os valores que comporão a matriz X.\n",
        "\n",
        "Teste a função com os valores **m=5** e **n=4**."
      ],
      "metadata": {
        "id": "DwWkABHIxiIX"
      }
    },
    {
      "cell_type": "code",
      "source": [
        "# Seu código aqui\n",
        "\n",
        "def func(l, c):\n",
        "  lines = np.arange(0, l, 1)\n",
        "  cols = np.arange(0, c, 1)\n",
        "\n",
        "  # Criar o grid\n",
        "  xGrid, yGrid = np.meshgrid(cols, lines)\n",
        "  \n",
        "  # Criar a matriz de saída\n",
        "  X = np.zeros((l, c))\n",
        "  \n",
        "  # Calcular distância cartesiana de (0, 0)\n",
        "  \n",
        "  for x in range(0, l):\n",
        "    for y in range(0, c):\n",
        "      v = [xGrid[x][y], yGrid[x][y]]\n",
        "      X[x, y] = np.linalg.norm(v)\n",
        "\n",
        "  return X\n",
        "\n",
        "X = func(5, 4)\n",
        "print(X)\n"
      ],
      "metadata": {
        "id": "qX8f43wIy9iq",
        "colab": {
          "base_uri": "https://localhost:8080/"
        },
        "outputId": "cab3cf92-bb04-4194-a146-a290edee10be"
      },
      "execution_count": 28,
      "outputs": [
        {
          "output_type": "stream",
          "name": "stdout",
          "text": [
            "[[0.         1.         2.         3.        ]\n",
            " [1.         1.41421356 2.23606798 3.16227766]\n",
            " [2.         2.23606798 2.82842712 3.60555128]\n",
            " [3.         3.16227766 3.60555128 4.24264069]\n",
            " [4.         4.12310563 4.47213595 5.        ]]\n"
          ]
        }
      ]
    },
    {
      "cell_type": "markdown",
      "source": [
        "Inicialmente criamos dois vetores de entrada com as linhas e colunas geradoras do grid nas faixas (0..4) e (0..3) dadas as dimensões pedidas. Esses dois vetores criam o grid através da função meshgrid, com coordenadas x e y nas matrizes xGrid e yGrid.\n",
        "Para calcular a distância cartesiana, fazemos um loop nas coordenadas calculando a norma dos vetores resultantes utilizando para tanto a função linarg.norm() da biblioteca numpy."
      ],
      "metadata": {
        "id": "zwdy4F-C_e2w"
      }
    },
    {
      "cell_type": "markdown",
      "metadata": {
        "id": "KB8fyJwRUi4y"
      },
      "source": [
        "## Parte 3 - Imagens sinteticas"
      ]
    },
    {
      "cell_type": "markdown",
      "source": [
        "Veja um exemplo de criação de uma imagem sintética com Numpy e como visualizá-la com o matplotlib.pyplot:\n"
      ],
      "metadata": {
        "id": "c_NCzACp1qkY"
      }
    },
    {
      "cell_type": "code",
      "source": [
        "# Criação de um quadrado cinza com dimensões 100 x 100\n",
        "from PIL import Image\n",
        "array = np.zeros([100, 100], dtype=np.uint8)\n",
        "array[:,:] = [100]\n",
        "plt.imshow(array,vmin=0, vmax=255, cmap='gray')"
      ],
      "metadata": {
        "colab": {
          "base_uri": "https://localhost:8080/",
          "height": 285
        },
        "id": "Ng_kDFFR1qEA",
        "outputId": "93843e96-9598-4c87-e13a-193f6fd1a943"
      },
      "execution_count": 29,
      "outputs": [
        {
          "output_type": "execute_result",
          "data": {
            "text/plain": [
              "<matplotlib.image.AxesImage at 0x7f3760a057f0>"
            ]
          },
          "metadata": {},
          "execution_count": 29
        },
        {
          "output_type": "display_data",
          "data": {
            "text/plain": [
              "<Figure size 432x288 with 1 Axes>"
            ],
            "image/png": "[encoded data removed]"
          },
          "metadata": {
            "needs_background": "light"
          }
        }
      ]
    },
    {
      "cell_type": "markdown",
      "source": [
        "### Ex. 1.3.1"
      ],
      "metadata": {
        "id": "G74vgkCq2Fww"
      }
    },
    {
      "cell_type": "markdown",
      "source": [
        "**a)** Crie um retângulo de tamanho 100 x 200 que seja formado por dois quadrados, um cinza claro e um cinza escuro. Plote o resultado obtido e comente a metodologia utilizada."
      ],
      "metadata": {
        "id": "UtFMNrlk59IU"
      }
    },
    {
      "cell_type": "code",
      "source": [
        "# Seu código aqui\n",
        "from PIL import Image\n",
        "array = np.zeros([100, 200], dtype=np.uint8)\n",
        "array[:,0:99] = [200]\n",
        "array[:,100:199] = [100]\n",
        "plt.imshow(array,vmin=0, vmax=255, cmap='gray')"
      ],
      "metadata": {
        "id": "DXLxgPHp580i",
        "colab": {
          "base_uri": "https://localhost:8080/",
          "height": 235
        },
        "outputId": "fb22df18-e79d-404a-83b9-ebeb7ccdb555"
      },
      "execution_count": 30,
      "outputs": [
        {
          "output_type": "execute_result",
          "data": {
            "text/plain": [
              "<matplotlib.image.AxesImage at 0x7f37609e81f0>"
            ]
          },
          "metadata": {},
          "execution_count": 30
        },
        {
          "output_type": "display_data",
          "data": {
            "text/plain": [
              "<Figure size 432x288 with 1 Axes>"
            ],
            "image/png": "[encoded data removed]"
          },
          "metadata": {
            "needs_background": "light"
          }
        }
      ]
    },
    {
      "cell_type": "markdown",
      "source": [
        "Para criar os dois quadrados utilizamos o código base do exemplo acima, alterando a atribuição dos valores de acordo com a faixa de coordenadas. Assim, nas coordenadas horizontais 0-99, atribuímos a intensidade de cinza '100', enquanto que para as coordenadas 100-199, atribuímos a intensidade de cinza '200', em uma escala de 0-254."
      ],
      "metadata": {
        "id": "GB9slnIDAg_6"
      }
    },
    {
      "cell_type": "markdown",
      "source": [
        "**b)** Utilizando a imagem anterior (retângulo criado), efetue a inserção de um quadrado azul no meio do quadrado vermelho e de um quadrado vermelho no meio do quadrado azul. Plote o resultado obtido e comente a metodologia utilizada."
      ],
      "metadata": {
        "id": "w8M4gfD12gpi"
      }
    },
    {
      "cell_type": "code",
      "source": [
        "\n",
        "# Seu código aqui\n",
        "from PIL import Image\n",
        "\n",
        "mask = np.zeros([100, 200], dtype=np.uint8)\n",
        "mask[10:89, 60:139] = 1 \n",
        "masked = np.ma.masked_where(mask == 0, mask)\n",
        "\n",
        "fig = plt.figure(frameon=False)\n",
        "\n",
        "array = np.zeros([100, 200], dtype=np.uint8)\n",
        "array[:,0:99] = [200]\n",
        "array[:,100:199] = [100]\n",
        "im1 = plt.imshow(array,vmin=0, vmax=255, cmap='gray')\n",
        "\n",
        "array = np.ones([100, 200], dtype=np.uint8)\n",
        "array[10:89, 60:139] = [200]\n",
        "array[30:69, 80:119] = [0]\n",
        "array[40:59, 90:109] = [200]\n",
        "\n",
        "# remove trechos não relevantes.\n",
        "masked = np.ma.masked_where(array == 1, array)\n",
        "im2 = plt.imshow(masked, vmin=0, vmax=255, cmap='gist_rainbow', alpha=1.0)\n",
        "\n",
        "plt.show()"
      ],
      "metadata": {
        "id": "W47Rdz6k20Rk",
        "colab": {
          "base_uri": "https://localhost:8080/",
          "height": 218
        },
        "outputId": "821919be-7ea2-465c-99af-7466276401c3"
      },
      "execution_count": 49,
      "outputs": [
        {
          "output_type": "display_data",
          "data": {
            "text/plain": [
              "<Figure size 432x288 with 1 Axes>"
            ],
            "image/png": "[encoded data removed]"
          },
          "metadata": {
            "needs_background": "light"
          }
        }
      ]
    },
    {
      "cell_type": "markdown",
      "source": [
        "Nota-se que neste exercício precisamos de um plot em tons de cinza (dois quadrados cinza)  e um plot colorido (quadrados azul e vermelho).\n",
        "\n",
        "Para plotarmos os quadrados com cores, é necessário utilizar um mapa de cores distinto para os valores do array 2d de entrada. Assim, selecionamos o color map 'gist_rainbow' por conter as cores azuis e vermelho de forma destacada.\n",
        "\n",
        "Atribuímos os valores do array relativos às cores azul e vermelha nas posições centrais da figura de acordo com as faixas:\n",
        "\n",
        "array[10:89, 60:139] = [200]\n",
        "\n",
        "array[20:69, 80:119] = [0]\n",
        "\n",
        "array[40:59, 90:109] = [200]\n",
        "\n",
        "Como queremos preservar o retângulo com os dois tons de cinza, utilizamos também uma máscara de transparência nas regiões do plot colorido que não contém os quadrados.\n",
        "\n",
        "Finalmente, plotamos os dois gráficos com superposição.\n",
        "\n"
      ],
      "metadata": {
        "id": "VX3N6nwkHLMs"
      }
    },
    {
      "cell_type": "markdown",
      "source": [
        "### Ex. 1.3.2"
      ],
      "metadata": {
        "id": "46syqzIg59gz"
      }
    },
    {
      "cell_type": "markdown",
      "metadata": {
        "collapsed": true,
        "id": "4CFqWZAaUi4z"
      },
      "source": [
        "Baseando-se nos tutoriais para [criação de imagens sintéticas](https://github.com/lrittner/Computacao-Visual/blob/bec40a68fa966e094c31227b098055f6c93dccc9/tutoriais/04_Gerando_imagens_sinteticas.ipynb) e [utilizando as funções meshgrid e indices](https://github.com/lrittner/Computacao-Visual/blob/bec40a68fa966e094c31227b098055f6c93dccc9/master/tutorial_numpy_1_7.ipynb), crie as seguintes imagens sintéticas, plotando o resultado e comentando os métodos utilizados.\n",
        "\n",
        "**a)** Tabuleiro de xadrez;\n"
      ]
    },
    {
      "cell_type": "code",
      "execution_count": 32,
      "metadata": {
        "id": "g_INUD2FUi4z",
        "colab": {
          "base_uri": "https://localhost:8080/",
          "height": 298
        },
        "outputId": "6738f2b8-0584-4f84-fdd3-b880c5941917"
      },
      "outputs": [
        {
          "output_type": "execute_result",
          "data": {
            "text/plain": [
              "<matplotlib.image.AxesImage at 0x7f37609a1250>"
            ]
          },
          "metadata": {},
          "execution_count": 32
        },
        {
          "output_type": "display_data",
          "data": {
            "text/plain": [
              "<Figure size 432x288 with 1 Axes>"
            ],
            "image/png": "[encoded data removed]"
          },
          "metadata": {
            "needs_background": "light"
          }
        }
      ],
      "source": [
        "# Seu código aqui\n",
        "import numpy as np\n",
        "import matplotlib.pyplot as plt\n",
        "\n",
        "r, c = np.meshgrid(np.arange(-100, 100), np.arange(-100,100), indexing='ij')\n",
        "f = (r//20 + c//20) % 2\n",
        "\n",
        "plt.title('Xadrez')\n",
        "plt.imshow(f, cmap='gray')"
      ]
    },
    {
      "cell_type": "markdown",
      "source": [
        "Para o tabuleiro de xadrez, utilizamos como base o código do tutorial que cria as duas matrizes das coordenadas r e c utilizando a função meshgrid. Daí, utilizando a função geradora f que executa a divisão por 20 nas duas coordenadas para facilitar a visualização."
      ],
      "metadata": {
        "id": "JcSmInQqLxLk"
      }
    },
    {
      "cell_type": "markdown",
      "source": [
        "**b)** função parabólica dada pela soma do quadrado de suas coordenadas;"
      ],
      "metadata": {
        "id": "R9YXSfIn69BT"
      }
    },
    {
      "cell_type": "code",
      "source": [
        "# Seu código aqui\n",
        "import numpy as np\n",
        "import matplotlib.pyplot as plt\n",
        "\n",
        "r, c = np.meshgrid(np.arange(0, 100), np.arange(0,100), indexing='ij')\n",
        "f = r**2 + c**2\n",
        "\n",
        "plt.title('Parabólica')\n",
        "plt.imshow(f, cmap='gray')"
      ],
      "metadata": {
        "id": "LLIaMUvq7AFv",
        "colab": {
          "base_uri": "https://localhost:8080/",
          "height": 298
        },
        "outputId": "02479599-cff2-4963-f4fc-1f17cb40819f"
      },
      "execution_count": 33,
      "outputs": [
        {
          "output_type": "execute_result",
          "data": {
            "text/plain": [
              "<matplotlib.image.AxesImage at 0x7f37608c65e0>"
            ]
          },
          "metadata": {},
          "execution_count": 33
        },
        {
          "output_type": "display_data",
          "data": {
            "text/plain": [
              "<Figure size 432x288 with 1 Axes>"
            ],
            "image/png": "[encoded data removed]"
          },
          "metadata": {
            "needs_background": "light"
          }
        }
      ]
    },
    {
      "cell_type": "markdown",
      "source": [
        "O mesmo procedimento foi executado aqui, apenas com a mudança na faixa das coordenadas (0 a 100) e mudança da função geradora f."
      ],
      "metadata": {
        "id": "ZKwAaBVtNdhN"
      }
    },
    {
      "cell_type": "markdown",
      "source": [
        "**c)** círculo de raio 40, com centro em (0,0);"
      ],
      "metadata": {
        "id": "T3sM-6Vm6sBD"
      }
    },
    {
      "cell_type": "code",
      "source": [
        "# Seu código aqui\n",
        "import numpy as np\n",
        "import matplotlib.pyplot as plt\n",
        "\n",
        "r, c = np.meshgrid(np.arange(0, 100), np.arange(0,100), indexing='ij')\n",
        "f = (r**2 + c**2 < 40**2)\n",
        "\n",
        "plt.title('Círculo')\n",
        "plt.imshow(f, cmap='gray')"
      ],
      "metadata": {
        "id": "gU3PvfW76WPF",
        "colab": {
          "base_uri": "https://localhost:8080/",
          "height": 298
        },
        "outputId": "261f3493-7e37-460b-ed36-a66efefe05c6"
      },
      "execution_count": 34,
      "outputs": [
        {
          "output_type": "execute_result",
          "data": {
            "text/plain": [
              "<matplotlib.image.AxesImage at 0x7f37608bab80>"
            ]
          },
          "metadata": {},
          "execution_count": 34
        },
        {
          "output_type": "display_data",
          "data": {
            "text/plain": [
              "<Figure size 432x288 with 1 Axes>"
            ],
            "image/png": "[encoded data removed]"
          },
          "metadata": {
            "needs_background": "light"
          }
        }
      ]
    },
    {
      "cell_type": "markdown",
      "source": [
        "Mesmo comentário acima: o mesmo procedimento foi executado aqui, apenas com a mudança na faixa das coordenadas (0 a 100) e mudança da função geradora f."
      ],
      "metadata": {
        "id": "uYkMyK_sNsMF"
      }
    },
    {
      "cell_type": "markdown",
      "source": [
        "## Parte 4 - Manipulando imagens com PIL e Numpy\n"
      ],
      "metadata": {
        "id": "yJDCwVDbnggD"
      }
    },
    {
      "cell_type": "markdown",
      "source": [
        "É possível carregar imagens utilizando **PIL.Image** e convertê-las para um **np.array**. \n",
        "\n",
        "Adicione a pasta **P_IA901A_2023S1** ao seu Google Drive para que seja capaz de abrir a imagem abaixo.\n",
        "\n",
        "Obs.: se encontrar dificuldades na utilização do Google Colaboratory, verifique a parte final deste NB \"Dicas: Utilizando o Colab\"."
      ],
      "metadata": {
        "id": "_vFdIne5nnea"
      }
    },
    {
      "cell_type": "code",
      "source": [
        "from google.colab import drive \n",
        "drive.mount('/content/gdrive')"
      ],
      "metadata": {
        "colab": {
          "base_uri": "https://localhost:8080/"
        },
        "id": "VlSQsh4cn426",
        "outputId": "a0e4e2ab-1982-47f6-9833-03e3fb9c468e"
      },
      "execution_count": 35,
      "outputs": [
        {
          "output_type": "stream",
          "name": "stdout",
          "text": [
            "Drive already mounted at /content/gdrive; to attempt to forcibly remount, call drive.mount(\"/content/gdrive\", force_remount=True).\n"
          ]
        }
      ]
    },
    {
      "cell_type": "code",
      "source": [
        "path = \"gdrive/MyDrive/P_IA901A_2023S1/IA901A_Ex01/arco-iris-duplo.jpg\"\n",
        "from PIL import Image\n",
        "img = Image.open(path)"
      ],
      "metadata": {
        "id": "vjeJFtr4n72E"
      },
      "execution_count": 37,
      "outputs": []
    },
    {
      "cell_type": "markdown",
      "source": [
        "### Ex. 1.4.1"
      ],
      "metadata": {
        "id": "9xYtSKP-oAFi"
      }
    },
    {
      "cell_type": "markdown",
      "source": [
        "Converta a imagem **img** para um [**np.array**](https://numpy.org/doc/stable/reference/generated/numpy.array.html), printe o número de dimensões da imagem, seu shape e seu dtype. Comente os métodos utilizados."
      ],
      "metadata": {
        "id": "gSNa5nd8oEXA"
      }
    },
    {
      "cell_type": "code",
      "source": [
        "# Seu código aqui\n",
        "from numpy import asarray\n",
        "\n",
        "array = asarray(img)\n",
        "\n",
        "print(\"Dimensões: \", array.ndim)\n",
        "print(\"Shape: \", array.shape)\n",
        "print(\"Dtype: \", array.dtype)\n"
      ],
      "metadata": {
        "id": "9AaLCnDAoLTZ",
        "colab": {
          "base_uri": "https://localhost:8080/"
        },
        "outputId": "8e72a5b9-9595-4e36-a2c2-9df3222c96af"
      },
      "execution_count": 42,
      "outputs": [
        {
          "output_type": "stream",
          "name": "stdout",
          "text": [
            "Dimensões:  3\n",
            "Shape:  (480, 640, 3)\n",
            "Dtype:  uint8\n"
          ]
        }
      ]
    },
    {
      "cell_type": "markdown",
      "source": [
        "Utilizamos a função utilitária asarray() para efetuar a conversão para np.array e printamos as informações usando funções de acesso do tipo ndarray."
      ],
      "metadata": {
        "id": "-AyglEPeV26v"
      }
    },
    {
      "cell_type": "markdown",
      "source": [
        "### Ex. 1.4.2"
      ],
      "metadata": {
        "id": "Lbt0s6jXoV3t"
      }
    },
    {
      "cell_type": "markdown",
      "source": [
        "Para se visualizar a imagem, pode-se utilizar o [**matplotlib.pyplot**](https://matplotlib.org/3.5.3/api/_as_gen/matplotlib.pyplot.html).\n",
        "\n",
        "Visualize a imagem anterior com um tamanho 2 x 2. Comente o seu código utilizando a documentação oficial."
      ],
      "metadata": {
        "id": "5A48Eku_oa4C"
      }
    },
    {
      "cell_type": "code",
      "source": [
        "# Seu código aqui\n",
        "import matplotlib.pyplot as plt\n",
        "\n",
        "plt.title('Imagem')\n",
        "plt.imshow(array, extent=[0, 2, 0, 2])"
      ],
      "metadata": {
        "id": "A9CO2EIRogfr",
        "colab": {
          "base_uri": "https://localhost:8080/",
          "height": 298
        },
        "outputId": "63c76154-da3e-47b5-c7fe-7876ee4a9da5"
      },
      "execution_count": 47,
      "outputs": [
        {
          "output_type": "execute_result",
          "data": {
            "text/plain": [
              "<matplotlib.image.AxesImage at 0x7f37606f07f0>"
            ]
          },
          "metadata": {},
          "execution_count": 47
        },
        {
          "output_type": "display_data",
          "data": {
            "text/plain": [
              "<Figure size 432x288 with 1 Axes>"
            ],
            "image/png": "[encoded data removed]"
          },
          "metadata": {
            "needs_background": "light"
          }
        }
      ]
    },
    {
      "cell_type": "markdown",
      "source": [
        "A função imshow() da biblioteca matplotlib é utilizada para a visualização de imagens a partir de matrizes 2d com conteúdo RGB de cores. Para limitar o tamanho da imagem, é utilizado o parâmetro extent para obtermos a imagem no tamanho 2x2."
      ],
      "metadata": {
        "id": "iGOPOdg6bF-w"
      }
    },
    {
      "cell_type": "markdown",
      "source": [
        "### Ex. 1.4.3"
      ],
      "metadata": {
        "id": "2qdeBsmTpPxu"
      }
    },
    {
      "cell_type": "markdown",
      "source": [
        "Selecione e visualize apenas uma região da imagem, usando o slicing do Numpy. Comente os métodos utilizados."
      ],
      "metadata": {
        "id": "QARxjMKmouK7"
      }
    },
    {
      "cell_type": "code",
      "source": [
        "# Seu código aqui\n",
        "\n",
        "arraySliced = array[200:300, 200:300, :]\n",
        "plt.title('Imagem após Slicing')\n",
        "plt.imshow(arraySliced, extent=[0, 2, 0, 2])\n",
        "\n"
      ],
      "metadata": {
        "id": "IvKlJR19pZWP",
        "colab": {
          "base_uri": "https://localhost:8080/",
          "height": 298
        },
        "outputId": "833d1fac-8403-47e0-c301-01aaf3e12f53"
      },
      "execution_count": 48,
      "outputs": [
        {
          "output_type": "execute_result",
          "data": {
            "text/plain": [
              "<matplotlib.image.AxesImage at 0x7f37606683d0>"
            ]
          },
          "metadata": {},
          "execution_count": 48
        },
        {
          "output_type": "display_data",
          "data": {
            "text/plain": [
              "<Figure size 432x288 with 1 Axes>"
            ],
            "image/png": "[encoded data removed]"
          },
          "metadata": {
            "needs_background": "light"
          }
        }
      ]
    },
    {
      "cell_type": "markdown",
      "source": [
        "Utilizando o slicing, selecionamos uma seção central da imagem nas coordenadas 200-300 na horizontal e vertical, criando uma nova matriz do tipo np.array com o conteúdo do slicing, e utilizamos a mesma funcionalidade da biblioteca matplotlib para visualizar a nova imagem."
      ],
      "metadata": {
        "id": "yNAdovSeeuvJ"
      }
    },
    {
      "cell_type": "markdown",
      "metadata": {
        "collapsed": true,
        "id": "gU9455qnUi4x"
      },
      "source": [
        "# Dicas: Utilizando o Colab\n",
        "\n",
        "O Google Colaboratory (Colab) permite a execução de Jupyter Notebooks na nuvem, através de navegadores, sem a necessidade de instalação do Jupyter na máquina. Nesta disciplina, os tutoriais e exercícios serão realizados na forma de Jupyter Notebooks através do Colab."
      ]
    },
    {
      "cell_type": "markdown",
      "source": [
        "## Conectividade do Colab\n",
        "\n",
        "O Colab informa que pode ficar conectado por até 12 horas. Porém, esse período varia de acordo com a utilização do Notebook e a iteratividade do código. Em alguns casos, após muito tempo de execução, a conta do Colab pode ficar limitada para utilização. Nestes casos, aconselha-se compartilhar o Notebook através do botão \"Compartilhar\" no canto superior direito, e executá-lo com outra conta do Google."
      ],
      "metadata": {
        "id": "LY4t5ltzZbE3"
      }
    },
    {
      "cell_type": "markdown",
      "metadata": {
        "id": "60WI3Xl1Ui4x"
      },
      "source": [
        "## Inserindo novas células\n",
        "\n",
        "O Colab permite a inserção de células de código ou texto. As células de código podem executar comandos em Python ou shell bash (comandos para terminal Linux). As células de texto permitem a inserção de dados em texto, links, tópicos e imagens.\n",
        "\n",
        "Para inserir uma nova célula, posicione o mouse entre duas células e clique no tipo da célula desejada (Código ou Texto):\n",
        "\n",
        "![imagem_2023-02-02_112708896.png](data:image/png;base64,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)\n",
        "\n",
        "Também é possível inserir novas células de código com os comandos \"Ctrl+M B\".\n",
        "\n",
        "As células podem ter sua ordem de execução alterada se forem pressionadas e \"arrastadas\". Além disso, a mudança de ordem pode ser efetuada pelas setas na figura a seguir, ou com os comandos \"Ctrl+M K\" (mover para cima) ou \"Ctrl+M J\" (Mover para baixo).\n",
        "\n",
        "![image.png](data:image/png;base64,iVBORw0KGgoAAAANSUhEUgAAADwAAAAqCAYAAADvczj0AAAABHNCSVQICAgIfAhkiAAAABl0RVh0U29mdHdhcmUAZ25vbWUtc2NyZWVuc2hvdO8Dvz4AAAAtdEVYdENyZWF0aW9uIFRpbWUAVGh1IDAyIEZlYiAyMDIzIDA0OjAxOjA4IFBNIC0wMx+tw6kAAAJMSURBVGiB7ZpPjoIwFId/rWgCGyWSuIKtZ2LrIeQOXIQrsRWWmmhETeRfZzEpAsMgMqjQ8UsaEyHlfbxa+oqEMcbwj6DvDuDVfIRF5yMsOlLVlyJP3AXhvKio0pkwF2SMZa18TAQkoChZ1fIMXV4qZzZNU1BKIUkSCCFvDq97KHCTTZIEhBBhZYGScBzHkKTKiVsYaH4oR1EkbGY5ND+coyh6dzxPJ1tp8Sw/yuVygW3b8Dyv08CqcF0Xq9UKruu27iP7Dec/m8JlXdd9mfRfoXXP3DrKmX1lpv9CYdJqKszlttstTNMEAJimCcZY76UfznBe1rIs6LoOANB1HZZl9V6apmkK3u4Jl2UNwygcNwyjM2nP87Ber+/20fQ8zsMZlmW5UpbDpXVdh6ZpjYKoQtM0yLJce+M8z4Nt2zifz437pXEcI9/qUBSlVpbDpRVFaRzIb9eaz+eV0lyWMdYoJg4NwxBhGCKKot4tPMrSvu8DAHzfbyULAFRVVaiqitlshul0+qzYW5OXdhwHAOA4TitZYCB7WlyaPxHuzSN1ZMJ9Lxq49HK5bC0LACRJEsYLhyAIsFgsOg61X1Dglt2+Z7kLfgzpNhXTkCgIU0pxPB7fGc/ToYQQ8DYajbDf77Hb7e4uQoYKSdOU8R2P6/WKIAhwOByw2WxwOp0eqqKGgATchvN4PIaiKCCEYDKZII7jh+vkvkPYN1lNnCRJtq7mVVSeocsT/peH/DZPWXToknkyYeB/vEwrCHNElQV+eT8s8oprENVSl3yERecL+CX+lbRL4o4AAAAASUVORK5CYII=)"
      ]
    },
    {
      "cell_type": "markdown",
      "source": [
        "## Executando células de código\n",
        "\n",
        "As células de código podem ser executadas clicando no ícone \"Play\", ao lado esquerdo da célula, ou através dos comandos \"Shift+Enter\" ou \"Ctrl+Enter\". Após a execução da célula, o índice de execução ficará entre os colchetes [ ]. \n",
        "\n",
        "Também é possível:\n",
        "1.   Executar todas as células: Ambiente de Execução > Executar tudo (ou utilizando Ctrl+F9);\n",
        "2.   Executar todas as células após a célula em que está o cursor: Ambiente de Execução > Executar após (ou utilizando Ctrl+F10);\n",
        "3.   Executar todas as células antes da célula em que está o cursor: Ambiente de Execução > Executar antes (ou utilizando Ctrl+F8);\n",
        "\n",
        "No caso da execução correta, um ícone de ok estará ao lado esquerdo. \n",
        "\n",
        "No caso de erros, um ponto de exclamação aparecerá no lado esquerdo e o erro será detalhado abaixo da célula. A execução é interrompida com o erro."
      ],
      "metadata": {
        "id": "4yfq2NMkhYij"
      }
    },
    {
      "cell_type": "code",
      "source": [
        "print(\"Exemplo de execução\")"
      ],
      "metadata": {
        "id": "msTNHMqThysV"
      },
      "execution_count": null,
      "outputs": []
    },
    {
      "cell_type": "code",
      "source": [
        "print(f\"Exemplo de erro de execução (variável não declarada): {m}\")"
      ],
      "metadata": {
        "id": "9sGn1tBZhzWi"
      },
      "execution_count": null,
      "outputs": []
    },
    {
      "cell_type": "markdown",
      "source": [
        "Para execução de comandos shell bash, utiliza-se o sinal \"!\" antes do código. \n",
        "\n",
        "Abaixo, seguem exemplos para: \n",
        "\n",
        "1.   Listar os arquivos do diretório atual\n",
        "2.   Printar o caminho do diretório atual\n",
        "3. Printar as configurações da GPU utilizada (é necessário estar com GPU habilitada: Ambiente de Execução > Alterar o tipo do ambiente de execução > Acelerador de Hardware)."
      ],
      "metadata": {
        "id": "-G11ytwzbMID"
      }
    },
    {
      "cell_type": "code",
      "source": [
        "!ls"
      ],
      "metadata": {
        "id": "kv80kU7Xbvpl"
      },
      "execution_count": null,
      "outputs": []
    },
    {
      "cell_type": "code",
      "source": [
        "!pwd"
      ],
      "metadata": {
        "id": "-Z0__P2nbwn9"
      },
      "execution_count": null,
      "outputs": []
    },
    {
      "cell_type": "code",
      "source": [
        "!nvidia-smi\n"
      ],
      "metadata": {
        "id": "zpf0BnBsb3Dz"
      },
      "execution_count": null,
      "outputs": []
    },
    {
      "cell_type": "markdown",
      "source": [
        "## Utilizando Colab com o Google Drive\n",
        "\n",
        "O Colab permite o vínculo de uma conta no Google Drive para carregar ou salvar arquivos. É necessário importar o pacote drive do colab e montá-lo, como segue. Na primeira execução após a conexão do notebook, será necessário realizar a autenticação na conta e permitir a conexão do colab com o drive.\n",
        "\n",
        "Por padrão, os notebooks gerados pelo colab são salvos na pasta 'Colab Notebooks', no Drive. Porém, é possível alterar o local onde o notebook será salvo. \n",
        "\n",
        "É possível verificar os arquivos na pasta de trabalho utilizando o comando shell bash \"ls\". Também é possível alterar a pasta de trabalho atual com o comando \"cd\". Exercite a execução destes comandos utilizando seu Google Drive."
      ],
      "metadata": {
        "id": "xcEtElqnatCq"
      }
    },
    {
      "cell_type": "code",
      "source": [
        "from google.colab import drive \n",
        "drive.mount('/content/gdrive')"
      ],
      "metadata": {
        "id": "VVMjB3wshY5L"
      },
      "execution_count": null,
      "outputs": []
    },
    {
      "cell_type": "markdown",
      "source": [
        "## Utilizando arquivos compartilhados\n",
        "\n",
        "O Colab permite apenas que sejam utilizados arquivos do Drive da própria conta, ou de drives compartilhados. Para se utilizar arquivos ou pastas compartilhados, pode-se adicionar um atalho à própria conta do Drive.\n",
        "\n",
        "Adicione um atalho ao seu Google Drive da pasta compartilhada \"G_EA979A_2023S1\". Liste os arquivos que estão contidos na pasta \"EA979A_Ex01\" utilizando a função **os.listdir**."
      ],
      "metadata": {
        "id": "7LPGJJI9gxlo"
      }
    },
    {
      "cell_type": "code",
      "source": [
        "import os\n",
        "list_files = os.listdir(\"gdrive/MyDrive/G_EA979A_2023S1/EA979A_Ex01\")\n",
        "for file in list_files:\n",
        "  print(file)\n",
        "  "
      ],
      "metadata": {
        "id": "GQ2B8nKpMY8c"
      },
      "execution_count": null,
      "outputs": []
    },
    {
      "cell_type": "markdown",
      "source": [
        "### Salvando arquivos no Drive"
      ],
      "metadata": {
        "id": "dcIlGzopQlAy"
      }
    },
    {
      "cell_type": "markdown",
      "source": [
        "Um arquivo, como uma imagem PIL.Image, pode ser salvo com o método save. No entanto, o path deve existir. \n",
        "\n",
        "OBS: um path pode ser criado via shell bash com **!mkdir -p path**.\n",
        "O -p promove a criação de subdiretórios que ainda não existem."
      ],
      "metadata": {
        "id": "oNEB9mfb46iw"
      }
    },
    {
      "cell_type": "code",
      "source": [
        "!mkdir -p gdrive/MyDrive/'Colab Notebooks'/G_EA979A_2023S1/EA979A_Ex01\n",
        "path = \"gdrive/MyDrive/Colab Notebooks/G_EA979A_2023S1/EA979A_Ex01/Ex1_arco_iris.png\"\n",
        "pil_img = Image.fromarray(np.array(Image.open(path)))\n",
        "pil_img.save(path)"
      ],
      "metadata": {
        "id": "guJ6V5yNQxwe"
      },
      "execution_count": null,
      "outputs": []
    },
    {
      "cell_type": "markdown",
      "source": [
        "## Snipets de código\n",
        "\n",
        "O Colab fornece vários códigos prontos em Ajuda > Pesquisar snipets de código. Os snipets também são acessíveis através dos comandos Ctrl+Alt+P.\n"
      ],
      "metadata": {
        "id": "mmVLAS3A8XZu"
      }
    }
  ],
  "metadata": {
    "kernelspec": {
      "display_name": "Python 3",
      "language": "python",
      "name": "python3"
    },
    "language_info": {
      "codemirror_mode": {
        "name": "ipython",
        "version": 3
      },
      "file_extension": ".py",
      "mimetype": "text/x-python",
      "name": "python",
      "nbconvert_exporter": "python",
      "pygments_lexer": "ipython3",
      "version": "3.6.1"
    },
    "colab": {
      "provenance": [],
      "toc_visible": true
    }
  },
  "nbformat": 4,
  "nbformat_minor": 0
}